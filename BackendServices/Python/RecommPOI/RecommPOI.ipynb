{
 "cells": [
  {
   "cell_type": "markdown",
   "metadata": {},
   "source": [
    "## The algorithm below uses fuzzy search and K-nearest neighbours with the available dataset to identify the distance between the user point of origin and the distance of places of interest and then recommends the best possible points as per the threshold count"
   ]
  },
  {
   "cell_type": "markdown",
   "metadata": {},
   "source": [
    "### Currently the api to integrate with the available threshold count of the recommended place is under development. This recommendation algo to be run on the data once the available , withing limit threshold values of people allowed are provided to it . \n",
    "\n",
    "### The dataset this model uses is minimal and is under assumption that these are the places available for the user\n"
   ]
  },
  {
   "cell_type": "code",
   "execution_count": 3,
   "metadata": {},
   "outputs": [],
   "source": [
    "import pandas as pd\n",
    "df = pd.read_excel('/Users/abhi/workspace/COC/Sarathi_Data.xlsx')"
   ]
  },
  {
   "cell_type": "code",
   "execution_count": 4,
   "metadata": {},
   "outputs": [],
   "source": [
    "poi = df[['POI_ID','POI_NAME','POI_TYPE']]"
   ]
  },
  {
   "cell_type": "code",
   "execution_count": 5,
   "metadata": {},
   "outputs": [],
   "source": [
    "data = df[[ 'POI_ID','POI_TYPE','POI_TYPE_ID', 'Area','POI_NAME', 'Address',\n",
    "       'Calculated distance metrs', 'Threshold Count']]"
   ]
  },
  {
   "cell_type": "code",
   "execution_count": 6,
   "metadata": {},
   "outputs": [],
   "source": [
    "from scipy.sparse import csr_matrix\n",
    "import sklearn"
   ]
  },
  {
   "cell_type": "code",
   "execution_count": 7,
   "metadata": {},
   "outputs": [],
   "source": [
    "similar_poi_pivot = data.pivot(index='POI_ID', columns='POI_TYPE_ID', values='Calculated distance metrs').fillna(0)"
   ]
  },
  {
   "cell_type": "code",
   "execution_count": 8,
   "metadata": {},
   "outputs": [],
   "source": [
    "poi_to_idx = {poi: i for i , poi in enumerate(list(poi.set_index('POI_ID').loc[similar_poi_pivot.index].POI_NAME))}"
   ]
  },
  {
   "cell_type": "code",
   "execution_count": 9,
   "metadata": {},
   "outputs": [],
   "source": [
    "poi_matrix = csr_matrix(similar_poi_pivot.values)"
   ]
  },
  {
   "cell_type": "markdown",
   "metadata": {},
   "source": [
    "## Use of KNN model to identify nearest matrix elements"
   ]
  },
  {
   "cell_type": "code",
   "execution_count": 10,
   "metadata": {},
   "outputs": [
    {
     "data": {
      "text/plain": [
       "NearestNeighbors(algorithm='brute', leaf_size=30, metric='cosine',\n",
       "                 metric_params=None, n_jobs=None, n_neighbors=5, p=2,\n",
       "                 radius=1.0)"
      ]
     },
     "execution_count": 10,
     "metadata": {},
     "output_type": "execute_result"
    }
   ],
   "source": [
    "from sklearn.neighbors import NearestNeighbors\n",
    "model_knn = NearestNeighbors(metric = 'cosine', algorithm = 'brute')\n",
    "model_knn.fit(poi_matrix)"
   ]
  },
  {
   "cell_type": "code",
   "execution_count": 11,
   "metadata": {},
   "outputs": [
    {
     "name": "stderr",
     "output_type": "stream",
     "text": [
      "/Applications/anaconda3/lib/python3.7/site-packages/fuzzywuzzy/fuzz.py:11: UserWarning: Using slow pure-python SequenceMatcher. Install python-Levenshtein to remove this warning\n",
      "  warnings.warn('Using slow pure-python SequenceMatcher. Install python-Levenshtein to remove this warning')\n"
     ]
    }
   ],
   "source": [
    "from fuzzywuzzy import fuzz"
   ]
  },
  {
   "cell_type": "code",
   "execution_count": 12,
   "metadata": {},
   "outputs": [],
   "source": [
    "def fuzzy_matching(mapper, best_poi, verbose=True):\n",
    "    \n",
    "    match_tuple = []\n",
    "    \n",
    "    for key, value in mapper.items():\n",
    "        ratio = fuzz.ratio(key.lower(), best_poi.lower())\n",
    "        if ratio >= 50:\n",
    "            match_tuple.append((key, value, ratio))\n",
    "   \n",
    "    match_tuple = sorted(match_tuple, key=lambda x: x[2])[::-1]\n",
    "    if not match_tuple:\n",
    "        print('No such location!')\n",
    "        return\n",
    "    if verbose:\n",
    "        print('Found possible matches in database: {0}\\n'.format([x[0] for x in match_tuple]))\n",
    "    return match_tuple[0][1]"
   ]
  },
  {
   "cell_type": "markdown",
   "metadata": {},
   "source": [
    "### Recommendation method to identify the points of interest based on the input of the user , for eg: Ganpati Temple"
   ]
  },
  {
   "cell_type": "code",
   "execution_count": 15,
   "metadata": {},
   "outputs": [],
   "source": [
    "def make_recommendation(model_knn, data, mapper, best_poi, n_recommendations):\n",
    "   \n",
    "    model_knn.fit(data)\n",
    "   \n",
    "    print('Your input location:', best_poi)\n",
    "    idx = fuzzy_matching(mapper, best_poi, verbose=True)\n",
    "    \n",
    "    print('Recommendation system will give Results soon.. ')\n",
    "\n",
    "    distances, indices = model_knn.kneighbors(data[idx], n_neighbors=n_recommendations+1)\n",
    "    \n",
    "    raw_recommends = \\\n",
    "        sorted(list(zip(indices.squeeze().tolist(), distances.squeeze().tolist())), key=lambda x: x[1])[:0:-1]\n",
    " \n",
    "    reverse_mapper = {v: k for k, v in mapper.items()}\n",
    "   \n",
    "    print('Recommendations for {}:'.format(best_poi))\n",
    "    for i, (idx, dist) in enumerate(raw_recommends):\n",
    "        print('{0}: {1}'.format(i+1, reverse_mapper[idx], dist))"
   ]
  },
  {
   "cell_type": "code",
   "execution_count": 18,
   "metadata": {},
   "outputs": [
    {
     "name": "stdout",
     "output_type": "stream",
     "text": [
      "Your input location: Ganapati Temple\n",
      "Found possible matches in database: ['Ganapati temple', 'Anjaneya Swamy temple']\n",
      "\n",
      "Recommendation system will give Results soon.. \n",
      "Recommendations for Ganapati Temple:\n",
      "1: St Mary's Church\n",
      "2: Anjaneya Swamy temple\n",
      "3: Ganapati temple\n"
     ]
    }
   ],
   "source": [
    "## The input from the user is captured under \"my_poi(my_place of interest) which will then spin out recommendation\"\n",
    "my_poi = 'Ganapati Temple'\n",
    "make_recommendation(\n",
    "    model_knn=model_knn,\n",
    "    data=poi_matrix,\n",
    "    best_poi=my_poi,\n",
    "    mapper=poi_to_idx,\n",
    "    n_recommendations=3)"
   ]
  },
  {
   "cell_type": "code",
   "execution_count": null,
   "metadata": {},
   "outputs": [],
   "source": []
  },
  {
   "cell_type": "code",
   "execution_count": null,
   "metadata": {},
   "outputs": [],
   "source": []
  },
  {
   "cell_type": "code",
   "execution_count": null,
   "metadata": {},
   "outputs": [],
   "source": []
  },
  {
   "cell_type": "code",
   "execution_count": null,
   "metadata": {},
   "outputs": [],
   "source": []
  }
 ],
 "metadata": {
  "kernelspec": {
   "display_name": "Python 3",
   "language": "python",
   "name": "python3"
  },
  "language_info": {
   "codemirror_mode": {
    "name": "ipython",
    "version": 3
   },
   "file_extension": ".py",
   "mimetype": "text/x-python",
   "name": "python",
   "nbconvert_exporter": "python",
   "pygments_lexer": "ipython3",
   "version": "3.7.3"
  }
 },
 "nbformat": 4,
 "nbformat_minor": 2
}
